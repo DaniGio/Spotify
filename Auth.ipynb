{
 "cells": [
  {
   "cell_type": "code",
   "execution_count": 1,
   "metadata": {},
   "outputs": [
    {
     "name": "stdout",
     "output_type": "stream",
     "text": [
      "Requirement already satisfied: requests in /Users/danigio/opt/anaconda3/lib/python3.8/site-packages (2.24.0)\n",
      "Requirement already satisfied: urllib3!=1.25.0,!=1.25.1,<1.26,>=1.21.1 in /Users/danigio/opt/anaconda3/lib/python3.8/site-packages (from requests) (1.25.9)\n",
      "Requirement already satisfied: chardet<4,>=3.0.2 in /Users/danigio/opt/anaconda3/lib/python3.8/site-packages (from requests) (3.0.4)\n",
      "Requirement already satisfied: idna<3,>=2.5 in /Users/danigio/opt/anaconda3/lib/python3.8/site-packages (from requests) (2.10)\n",
      "Requirement already satisfied: certifi>=2017.4.17 in /Users/danigio/opt/anaconda3/lib/python3.8/site-packages (from requests) (2020.6.20)\n"
     ]
    }
   ],
   "source": [
    "!pip install requests"
   ]
  },
  {
   "cell_type": "code",
   "execution_count": 2,
   "metadata": {},
   "outputs": [],
   "source": [
    "import base64\n",
    "import requests\n",
    "import datetime\n",
    "from config import client_id, client_secret"
   ]
  },
  {
   "cell_type": "code",
   "execution_count": 3,
   "metadata": {},
   "outputs": [
    {
     "name": "stdout",
     "output_type": "stream",
     "text": [
      "1c7bdf6a70e7419c81923425dd2837eb\n"
     ]
    }
   ],
   "source": [
    "print(client_id)"
   ]
  },
  {
   "cell_type": "code",
   "execution_count": 4,
   "metadata": {},
   "outputs": [],
   "source": [
    "#Do a look up for a token - this token is for future request"
   ]
  },
  {
   "cell_type": "code",
   "execution_count": 5,
   "metadata": {},
   "outputs": [],
   "source": [
    "client_creds = f\"{client_id}:{client_secret}\""
   ]
  },
  {
   "cell_type": "code",
   "execution_count": null,
   "metadata": {},
   "outputs": [],
   "source": [
    "client_creds_b64= base64.b64encode(client_creds.encode())\n",
    "type(client_creds_b64)"
   ]
  },
  {
   "cell_type": "code",
   "execution_count": null,
   "metadata": {},
   "outputs": [],
   "source": [
    "token_url= \"https://accounts.spotify.com/api/token\"\n",
    "method = \"POST\"\n",
    "token_data = {\n",
    "    \"grant_type\": \"client_credentials\"\n",
    "}\n",
    "token_headers = {\n",
    "    \"Authorization\":f\"Basic {client_creds_b64.decode()}\"\n",
    "}\n",
    "token_header"
   ]
  },
  {
   "cell_type": "code",
   "execution_count": null,
   "metadata": {},
   "outputs": [],
   "source": [
    "r= requests.post(token_url, data=token_data, headers =token_headers)\n",
    "print (r.json())\n",
    "valid_request = r.status_code in range (200,299)\n"
   ]
  },
  {
   "cell_type": "code",
   "execution_count": null,
   "metadata": {},
   "outputs": [],
   "source": [
    "if valid_request:\n",
    "    token_response_data = r.json()\n",
    "    now = datetime.datetime.now()\n",
    "    access_token=token_response_data['access_token']\n",
    "    expires_in = token_response_data ['expires_in']#seconds\n",
    "    expires = now + datetime.timedelta (seconds = expires_in)\n",
    "    did_expire = expires < now"
   ]
  },
  {
   "cell_type": "code",
   "execution_count": null,
   "metadata": {},
   "outputs": [],
   "source": [
    "spotify_url = \"https://api.spotify.com/v1/search?\"\n",
    "def spotify_search(track, token):\n",
    "    search_string = f\"type=track&q=artist:{track['artist']} track:{track['title']}\"\n",
    "    headers = {\n",
    "        \"Content-Type\": \"application/json\",\n",
    "        \"Authorization\": \"Bearer {}\".format(token)\n",
    "    }\n",
    "    response = requests.get(spotify_url + search_string, headers=headers)\n",
    "    return response.json()"
   ]
  },
  {
   "cell_type": "code",
   "execution_count": null,
   "metadata": {},
   "outputs": [],
   "source": [
    "print (spotify_search)"
   ]
  },
  {
   "cell_type": "code",
   "execution_count": null,
   "metadata": {},
   "outputs": [],
   "source": []
  }
 ],
 "metadata": {
  "kernelspec": {
   "display_name": "Python 3",
   "language": "python",
   "name": "python3"
  },
  "language_info": {
   "codemirror_mode": {
    "name": "ipython",
    "version": 3
   },
   "file_extension": ".py",
   "mimetype": "text/x-python",
   "name": "python",
   "nbconvert_exporter": "python",
   "pygments_lexer": "ipython3",
   "version": "3.8.3"
  }
 },
 "nbformat": 4,
 "nbformat_minor": 2
}
